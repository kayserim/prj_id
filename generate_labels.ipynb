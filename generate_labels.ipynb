{
  "nbformat": 4,
  "nbformat_minor": 0,
  "metadata": {
    "colab": {
      "provenance": [],
      "machine_shape": "hm",
      "include_colab_link": true
    },
    "kernelspec": {
      "name": "python3",
      "display_name": "Python 3"
    },
    "language_info": {
      "name": "python"
    },
    "gpuClass": "standard"
  },
  "cells": [
    {
      "cell_type": "markdown",
      "metadata": {
        "id": "view-in-github",
        "colab_type": "text"
      },
      "source": [
        "<a href=\"https://colab.research.google.com/github/kayserim/prj_id/blob/main/generate_labels.ipynb\" target=\"_parent\"><img src=\"https://colab.research.google.com/assets/colab-badge.svg\" alt=\"Open In Colab\"/></a>"
      ]
    },
    {
      "cell_type": "code",
      "execution_count": 1,
      "metadata": {
        "pycharm": {
          "name": "#%%\n"
        },
        "id": "kEwuEgTyI7Bf",
        "colab": {
          "base_uri": "https://localhost:8080/"
        },
        "outputId": "c885fea1-779d-4371-bbe2-88b8d0a2357d"
      },
      "outputs": [
        {
          "output_type": "stream",
          "name": "stdout",
          "text": [
            "Mounted at /content/drive\n",
            "/content/drive/MyDrive/cse6250_proj\n"
          ]
        }
      ],
      "source": [
        "from google.colab import drive\n",
        "drive.mount(\"/content/drive\")\n",
        "%cd '/content/drive/MyDrive/cse6250_proj' "
      ]
    },
    {
      "cell_type": "code",
      "source": [
        "import pandas as pd\n",
        "import numpy as np\n",
        "from datetime import datetime,timedelta\n",
        "from collections import defaultdict\n",
        "import dask\n",
        "import dask.dataframe as dd\n",
        "\n",
        "HOURS_IN_A_DAY = 24\n",
        "\n",
        "path = './data/all/'\n",
        "#path = './data/demo/'\n",
        "\n",
        "class DateRange:\n",
        "    def __init__(self, start_date, end_date):\n",
        "        self.start_date = start_date\n",
        "        self.end_date = end_date\n",
        "\n",
        "    def __contains__(self, check_date):\n",
        "        return self.start_date <= check_date <= self.end_date\n",
        "\n",
        "def remove_less_than_18yrs_old(icu_stays):\n",
        "  #Note: although paper does not clarify filtering 18 yrs old according to intime in icu\n",
        "  return icu_stays[( (icu_stays['DOB'] + timedelta(hours=18*365.25*HOURS_IN_A_DAY) ) < icu_stays['INTIME'])] \n",
        "\n",
        "def remove_icu_deaths(icu_stays):\n",
        "  #Note: assuming dod_hosp is sufficient to check for icu deaths\n",
        "  death_in_icu_mask = icu_stays['DOD_HOSP'].notna() & (icu_stays['INTIME']<icu_stays['DOD_HOSP']) & (icu_stays['DOD_HOSP']<icu_stays['OUTTIME']) \n",
        "  return icu_stays[~death_in_icu_mask] \n",
        "\n",
        "def check_case1(hadmid, icuid, multiple_icus_df):\n",
        "  if hadmid not in multiple_icus_df.HADM_ID.values:\n",
        "    return 0\n",
        "\n",
        "  icu_stays = multiple_icus_df.loc[multiple_icus_df.HADM_ID ==hadmid][['ICU_STAYS']].iloc[0][0]\n",
        "  if (icu_stays.index(icuid)+1)==len(icu_stays):# no need to check icuid existence only check if it is the last element or not\n",
        "    return 0\n",
        "  \n",
        "  return 1\n",
        "\n",
        "def date_ranges_intersect(range1, range2):\n",
        "  intersection_start = max(range1.start_date, range2.start_date)\n",
        "  intersection_end = min(range1.end_date, range2.end_date)\n",
        "  return True if intersection_end >= intersection_start else False\n",
        "\n",
        "def date_ranges_intersect_and_second_follows_first(range1, range2):\n",
        "  if range1.start_date > range2.start_date:\n",
        "    return False\n",
        "  if range1.end_date < range2.start_date:\n",
        "    return False\n",
        "  return True"
      ],
      "metadata": {
        "id": "-a_3iSd946uq"
      },
      "execution_count": 2,
      "outputs": []
    },
    {
      "cell_type": "code",
      "source": [
        "file = 'PATIENTS.csv'\n",
        "patients = pd.read_csv(path+file)\n",
        "patients['DOB'] = pd.to_datetime(patients['DOB'])\n",
        "patients['DOD'] = pd.to_datetime(patients['DOD'])\n",
        "patients['DOD_HOSP'] = pd.to_datetime(patients['DOD_HOSP'])\n",
        "patients['DOD_SSN'] = pd.to_datetime(patients['DOD_SSN'])\n",
        "#TODO is mimic-iii clean, do we need preprocessing like if expiry=1 then at least 1 dod should be set, and dob should always be set etc...\n",
        "#patients.info() #46520 patients\n"
      ],
      "metadata": {
        "id": "S9lXBmCft7vx"
      },
      "execution_count": 3,
      "outputs": []
    },
    {
      "cell_type": "code",
      "source": [
        "file = 'ADMISSIONS.csv'\n",
        "admissions = pd.read_csv(path+file)\n",
        "admissions['DISCHTIME'] = pd.to_datetime(admissions['DISCHTIME'])\n",
        "admissions.dropna(subset=['DISCHTIME'], inplace=True)\n",
        "hospital_deaths = admissions.loc[admissions.HOSPITAL_EXPIRE_FLAG==1][['HADM_ID']]\n",
        "admissions_with_discharge = admissions.loc[~(admissions.HOSPITAL_EXPIRE_FLAG==1)][['HADM_ID']]"
      ],
      "metadata": {
        "id": "bgnc30YZUT4C"
      },
      "execution_count": 7,
      "outputs": []
    },
    {
      "cell_type": "code",
      "source": [
        "file = 'ICUSTAYS.csv'\n",
        "icu_stays = pd.read_csv(path+file)\n",
        "icu_stays['INTIME'] = pd.to_datetime(icu_stays['INTIME'])\n",
        "icu_stays['OUTTIME'] = pd.to_datetime(icu_stays['OUTTIME'])\n",
        "icu_stays = icu_stays.merge(patients, on='SUBJECT_ID', how='inner')\n",
        "#icu_stays.info() #61532 icu stays\n",
        "#icu_stays['SUBJECT_ID'].nunique() #46476 patients\n",
        "\n",
        "#alhtough this is not mentioned in the paper, it makes sense to clean out cases still in icu\n",
        "icu_stays.dropna(subset=['OUTTIME'], inplace=True)\n",
        "\n",
        "icu_stays = remove_less_than_18yrs_old(icu_stays)\n",
        "#icu_stays.info() #53329 icu stays\n",
        "#icu_stays['SUBJECT_ID'].nunique() #38510 patients\n",
        "\n",
        "icu_stays = remove_icu_deaths(icu_stays)\n",
        "#icu_stays.info() #49128 icu stays --> #INCONSISTENCY paper have 48393\n",
        "#icu_stays['SUBJECT_ID'].nunique() #35602 patients --> #INCONSISTENCY paper have 35334\n"
      ],
      "metadata": {
        "id": "HKh4l0am2TfX"
      },
      "execution_count": 4,
      "outputs": []
    },
    {
      "cell_type": "code",
      "source": [
        "# case1: transferred to ward but later was re-admitted to ICU, expected 3555\n",
        "icu_stays_sorted = icu_stays.sort_values(by='INTIME')\n",
        "icu_stays_per_hadm = icu_stays_sorted.groupby('HADM_ID')['ICUSTAY_ID'].apply(list).reset_index(name='ICU_STAYS')\n",
        "case1_candidates = icu_stays_per_hadm[icu_stays_per_hadm['ICU_STAYS'].map(len)>1]\n",
        "icu_stays['CASE1'] = icu_stays.apply(lambda row: check_case1(row.HADM_ID, row.ICUSTAY_ID, case1_candidates), axis=1)\n",
        "#icu_stays['CASE1'].value_counts() # 3187 1s #INCONSISTENCY paper have 3555 1s"
      ],
      "metadata": {
        "id": "VShrgkPfOGDp"
      },
      "execution_count": 5,
      "outputs": []
    },
    {
      "cell_type": "code",
      "source": [
        "# case2: tranferred to ward and died later, expected 1974\n",
        "last_icu_stay_of_admission = icu_stays_sorted.groupby('HADM_ID').last().reset_index() \n",
        "ward_deaths = last_icu_stay_of_admission.merge(hospital_deaths, on='HADM_ID', how='inner')[['HADM_ID','ICUSTAY_ID']] #we know this list does not contain ICUs with deaths so any inner join would mean deaths in ward\n",
        "ward_deaths['CASE2'] = 1\n",
        "icu_stays.drop(columns='CASE2', errors='ignore', inplace=True)#to prevent issues with multiple run of cell \n",
        "icu_stays = icu_stays.merge(ward_deaths[['CASE2', 'ICUSTAY_ID']], on='ICUSTAY_ID', how='left')\n",
        "icu_stays['CASE2'] = icu_stays[['CASE2']].fillna(0) \n",
        "#icu_stays['CASE2'].value_counts()  # 2009 1s #INCONSISTENCY paper have 1974 1s"
      ],
      "metadata": {
        "id": "9dHO6vo8AhUv"
      },
      "execution_count": 8,
      "outputs": []
    },
    {
      "cell_type": "code",
      "source": [
        "# case3: discharged but returned to icu within 30 days, expected 3205\n",
        "first_icu_stay_of_admission = icu_stays_sorted.groupby('HADM_ID').first().reset_index() \n",
        "first_icu_stay_of_admission['STAY_RANGE'] = first_icu_stay_of_admission.apply(lambda row: DateRange(row['INTIME'], row['OUTTIME']), axis=1)\n",
        "per_patient_first_icu_stays = first_icu_stay_of_admission.groupby('SUBJECT_ID')['STAY_RANGE'].apply(list).reset_index(name='STAY_RANGES')\n",
        "per_patient_first_icu_stays = per_patient_first_icu_stays[per_patient_first_icu_stays['STAY_RANGES'].map(len)>1]# only intereseted in more than 1 first-stays\n",
        "per_patient_multiple_first_icu_stays_map = defaultdict(list,dict(zip(per_patient_first_icu_stays.SUBJECT_ID, per_patient_first_icu_stays.STAY_RANGES)))\n",
        "\n",
        "admissions_with_discharge['DISCHARGE'] = True # will use this marker below to filter intersection only\n",
        "icu_stays_with_discharge = last_icu_stay_of_admission.merge(admissions_with_discharge, on='HADM_ID', how='inner').dropna(subset=['DISCHARGE'])\n",
        "\n",
        "icu_stays_with_discharge['READMITTED_WITHIN_30DAYS'] = icu_stays_with_discharge.apply(lambda row: any(date_ranges_intersect_and_second_follows_first(DateRange(row['OUTTIME'], row['OUTTIME']+timedelta(hours=30*HOURS_IN_A_DAY)), date_range) for date_range in per_patient_multiple_first_icu_stays_map[row['SUBJECT_ID']]), axis=1)\n",
        "icu_stays_discharged_and_readdmitted = icu_stays_with_discharge.loc[icu_stays_with_discharge['READMITTED_WITHIN_30DAYS']][['ICUSTAY_ID']]\n",
        "icu_stays_discharged_and_readdmitted['CASE3'] = 1\n",
        "icu_stays.drop(columns='CASE3', errors='ignore', inplace=True)#to prevent issues with multiple run of cell \n",
        "icu_stays = icu_stays.merge(icu_stays_discharged_and_readdmitted[['CASE3', 'ICUSTAY_ID']], on='ICUSTAY_ID', how='left')\n",
        "icu_stays['CASE3'] = icu_stays[['CASE3']].fillna(0) \n",
        "#icu_stays['CASE3'].value_counts()  # 2364 1s #INCONSISTENCY paper have 3205 1s"
      ],
      "metadata": {
        "id": "H8sZhxDHAe71"
      },
      "execution_count": 9,
      "outputs": []
    },
    {
      "cell_type": "code",
      "source": [
        "## case4: discharget but dies within 30 days, expected 2556\n",
        "icu_stays_with_discharge_and_eventual_death = icu_stays_with_discharge.loc[icu_stays_with_discharge.DOD.notna()][['ICUSTAY_ID', 'DOD', 'OUTTIME']]\n",
        "icu_stays_with_discharge_and_eventual_death['DIFF'] = icu_stays_with_discharge_and_eventual_death['DOD']-icu_stays_with_discharge_and_eventual_death['OUTTIME']\n",
        "icu_stays_with_discharge_and_eventual_death['DEAD_WITHIN_30DAYS'] = icu_stays_with_discharge_and_eventual_death.apply(lambda row: date_ranges_intersect(DateRange(row['OUTTIME'], row['OUTTIME']+timedelta(hours=30*HOURS_IN_A_DAY)), DateRange(row['DOD'],row['DOD'])) , axis=1)\n",
        "icu_stays_with_discharge_and_30days_death = icu_stays_with_discharge_and_eventual_death.loc[icu_stays_with_discharge_and_eventual_death['DEAD_WITHIN_30DAYS']][['ICUSTAY_ID']]\n",
        "icu_stays_with_discharge_and_30days_death['CASE4'] = 1\n",
        "icu_stays.drop(columns='CASE4', errors='ignore', inplace=True)#to prevent issues with multiple run of cell \n",
        "icu_stays = icu_stays.merge(icu_stays_with_discharge_and_30days_death[['CASE4', 'ICUSTAY_ID']], on='ICUSTAY_ID', how='left')\n",
        "icu_stays['CASE4'] = icu_stays[['CASE4']].fillna(0) \n",
        "#icu_stays['CASE4'].value_counts()  # 1888 1s #INCONSISTENCY paper have 2556 1s"
      ],
      "metadata": {
        "id": "2EhvRpV2AXkK"
      },
      "execution_count": 10,
      "outputs": []
    },
    {
      "cell_type": "code",
      "source": [
        "# merge all cases\n",
        "# by default mark everyone as not going to benefit from further ICU stay\n",
        "# then mark positive cases\n",
        "icu_stays['POSITIVE'] = 0 \n",
        "case_mask = (icu_stays.CASE1==1) | (icu_stays.CASE2==1) | (icu_stays.CASE3==1) | (icu_stays.CASE4==1)\n",
        "icu_stays.loc[case_mask, 'POSITIVE'] = 1 # these will benefit from not being discharged ~4200\n",
        "icu_stays.POSITIVE.value_counts() #"
      ],
      "metadata": {
        "id": "y_YL4IMP9qTG",
        "colab": {
          "base_uri": "https://localhost:8080/"
        },
        "outputId": "057f996a-173d-4015-cd5f-581e894dbe3f"
      },
      "execution_count": 11,
      "outputs": [
        {
          "output_type": "execute_result",
          "data": {
            "text/plain": [
              "0    39832\n",
              "1     9296\n",
              "Name: POSITIVE, dtype: int64"
            ]
          },
          "metadata": {},
          "execution_count": 11
        }
      ]
    },
    {
      "cell_type": "code",
      "source": [
        "YEARS_FOR_BINNIG = 4\n",
        "icu_stays['AGE_BIN'] = icu_stays.apply(lambda row: YEARS_FOR_BINNIG*np.floor((row['INTIME'].to_pydatetime()-row['DOB'].to_pydatetime()).days/(YEARS_FOR_BINNIG*365.25)), axis=1)\n",
        "df_plot = icu_stays[['AGE_BIN','POSITIVE']]\n",
        "ax=df_plot.groupby(['AGE_BIN','POSITIVE']).size().unstack()[[1, 0]].plot(kind='bar', stacked=True, color=['red', 'green'])\n",
        "ax.set_xlim(-1,18)\n"
      ],
      "metadata": {
        "colab": {
          "base_uri": "https://localhost:8080/",
          "height": 309
        },
        "id": "N6i96zVnaaQx",
        "outputId": "1064524c-c6fd-4b1a-f3ed-c4c883cf5253"
      },
      "execution_count": 12,
      "outputs": [
        {
          "output_type": "execute_result",
          "data": {
            "text/plain": [
              "(-1.0, 18.0)"
            ]
          },
          "metadata": {},
          "execution_count": 12
        },
        {
          "output_type": "display_data",
          "data": {
            "text/plain": [
              "<Figure size 432x288 with 1 Axes>"
            ],
            "image/png": "[encoded data removed]"
          },
          "metadata": {
            "needs_background": "light"
          }
        }
      ]
    },
    {
      "cell_type": "code",
      "source": [
        "icu_stays['roundedLOS'] = icu_stays.LOS.apply(np.ceil)\n",
        "df_plot = icu_stays[['roundedLOS','POSITIVE']]\n",
        "ax=df_plot.groupby(['roundedLOS','POSITIVE']).size().unstack()[[1, 0]].plot(kind='bar', stacked=True, color=['red', 'green'])\n",
        "ax.set_xlim(-1,22)"
      ],
      "metadata": {
        "colab": {
          "base_uri": "https://localhost:8080/",
          "height": 309
        },
        "id": "wb9mLraaVzPc",
        "outputId": "4750b551-ef5c-4e75-fee3-c2015d8e6926"
      },
      "execution_count": null,
      "outputs": [
        {
          "output_type": "execute_result",
          "data": {
            "text/plain": [
              "(-1.0, 22.0)"
            ]
          },
          "metadata": {},
          "execution_count": 12
        },
        {
          "output_type": "display_data",
          "data": {
            "text/plain": [
              "<Figure size 432x288 with 1 Axes>"
            ],
            "image/png": "[encoded data removed]"
          },
          "metadata": {
            "needs_background": "light"
          }
        }
      ]
    },
    {
      "cell_type": "code",
      "source": [
        "icu_stays_subset = icu_stays[['SUBJECT_ID', 'HADM_ID', 'ICUSTAY_ID', 'OUTTIME', 'POSITIVE']].sample(frac=0.1)\n",
        "icu_stays_subset.to_csv('./data/all/ICUSTAYS_LITE.csv')"
      ],
      "metadata": {
        "id": "3R3QQgh16pMy"
      },
      "execution_count": 13,
      "outputs": []
    },
    {
      "cell_type": "code",
      "source": [
        "file = 'CHARTEVENTS.csv'\n",
        "chartevents = dd.read_csv(path+file,usecols=['ICUSTAY_ID','VALUENUM', 'ITEMID','CHARTTIME'], parse_dates=['CHARTTIME'],assume_missing=True).dropna() #TODO only numerics for now\n",
        "chartevents['ICUSTAY_ID']=chartevents['ICUSTAY_ID'].astype('int64')\n",
        "chartevents['ITEMID']=chartevents['ITEMID'].astype('int64')\n",
        "filtered_chartevents = chartevents.loc[(chartevents.ICUSTAY_ID.isin(list(icu_stays_subset['ICUSTAY_ID'])))]\n",
        "filtered_chartevents.compute().to_csv('./data/all/CHARTEVENTS_LITE.csv')"
      ],
      "metadata": {
        "id": "SyC3HvR96p3d",
        "colab": {
          "base_uri": "https://localhost:8080/",
          "height": 381
        },
        "outputId": "1669eac0-548b-4c8e-ef59-2bd54f3437de"
      },
      "execution_count": 15,
      "outputs": [
        {
          "output_type": "error",
          "ename": "ValueError",
          "evalue": "ignored",
          "traceback": [
            "\u001b[0;31m---------------------------------------------------------------------------\u001b[0m",
            "\u001b[0;31mValueError\u001b[0m                                Traceback (most recent call last)",
            "\u001b[0;32m<ipython-input-15-b931c2ba020e>\u001b[0m in \u001b[0;36m<module>\u001b[0;34m\u001b[0m\n\u001b[1;32m      1\u001b[0m \u001b[0mfile\u001b[0m \u001b[0;34m=\u001b[0m \u001b[0;34m'CHARTEVENTS.csv'\u001b[0m\u001b[0;34m\u001b[0m\u001b[0;34m\u001b[0m\u001b[0m\n\u001b[0;32m----> 2\u001b[0;31m \u001b[0mchartevents\u001b[0m \u001b[0;34m=\u001b[0m \u001b[0mdd\u001b[0m\u001b[0;34m.\u001b[0m\u001b[0mread_csv\u001b[0m\u001b[0;34m(\u001b[0m\u001b[0mpath\u001b[0m\u001b[0;34m+\u001b[0m\u001b[0mfile\u001b[0m\u001b[0;34m,\u001b[0m\u001b[0musecols\u001b[0m\u001b[0;34m=\u001b[0m\u001b[0;34m[\u001b[0m\u001b[0;34m'USER_ID'\u001b[0m\u001b[0;34m,\u001b[0m \u001b[0;34m'ICUSTAY_ID'\u001b[0m\u001b[0;34m,\u001b[0m\u001b[0;34m'VALUENUM'\u001b[0m\u001b[0;34m,\u001b[0m \u001b[0;34m'ITEMID'\u001b[0m\u001b[0;34m,\u001b[0m\u001b[0;34m'CHARTTIME'\u001b[0m\u001b[0;34m]\u001b[0m\u001b[0;34m,\u001b[0m \u001b[0mparse_dates\u001b[0m\u001b[0;34m=\u001b[0m\u001b[0;34m[\u001b[0m\u001b[0;34m'CHARTTIME'\u001b[0m\u001b[0;34m]\u001b[0m\u001b[0;34m,\u001b[0m\u001b[0massume_missing\u001b[0m\u001b[0;34m=\u001b[0m\u001b[0;32mTrue\u001b[0m\u001b[0;34m)\u001b[0m\u001b[0;34m.\u001b[0m\u001b[0mdropna\u001b[0m\u001b[0;34m(\u001b[0m\u001b[0;34m)\u001b[0m \u001b[0;31m#TODO only numerics for now\u001b[0m\u001b[0;34m\u001b[0m\u001b[0;34m\u001b[0m\u001b[0m\n\u001b[0m\u001b[1;32m      3\u001b[0m \u001b[0;31m# chartevents['ICUSTAY_ID']=chartevents['ICUSTAY_ID'].astype('int64')\u001b[0m\u001b[0;34m\u001b[0m\u001b[0;34m\u001b[0m\u001b[0;34m\u001b[0m\u001b[0m\n\u001b[1;32m      4\u001b[0m \u001b[0;31m# chartevents['ITEMID']=chartevents['ITEMID'].astype('int64')\u001b[0m\u001b[0;34m\u001b[0m\u001b[0;34m\u001b[0m\u001b[0;34m\u001b[0m\u001b[0m\n\u001b[1;32m      5\u001b[0m \u001b[0;31m# filtered_chartevents = chartevents.loc[(chartevents.ICUSTAY_ID.isin(list(icu_stays_subset['ICUSTAY_ID'])))]\u001b[0m\u001b[0;34m\u001b[0m\u001b[0;34m\u001b[0m\u001b[0;34m\u001b[0m\u001b[0m\n",
            "\u001b[0;32m/usr/local/lib/python3.8/dist-packages/dask/dataframe/io/csv.py\u001b[0m in \u001b[0;36mread\u001b[0;34m(urlpath, blocksize, lineterminator, compression, sample, sample_rows, enforce, assume_missing, storage_options, include_path_column, **kwargs)\u001b[0m\n\u001b[1;32m    740\u001b[0m         \u001b[0;34m**\u001b[0m\u001b[0mkwargs\u001b[0m\u001b[0;34m,\u001b[0m\u001b[0;34m\u001b[0m\u001b[0;34m\u001b[0m\u001b[0m\n\u001b[1;32m    741\u001b[0m     ):\n\u001b[0;32m--> 742\u001b[0;31m         return read_pandas(\n\u001b[0m\u001b[1;32m    743\u001b[0m             \u001b[0mreader\u001b[0m\u001b[0;34m,\u001b[0m\u001b[0;34m\u001b[0m\u001b[0;34m\u001b[0m\u001b[0m\n\u001b[1;32m    744\u001b[0m             \u001b[0murlpath\u001b[0m\u001b[0;34m,\u001b[0m\u001b[0;34m\u001b[0m\u001b[0;34m\u001b[0m\u001b[0m\n",
            "\u001b[0;32m/usr/local/lib/python3.8/dist-packages/dask/dataframe/io/csv.py\u001b[0m in \u001b[0;36mread_pandas\u001b[0;34m(reader, urlpath, blocksize, lineterminator, compression, sample, sample_rows, enforce, assume_missing, storage_options, include_path_column, **kwargs)\u001b[0m\n\u001b[1;32m    609\u001b[0m     \u001b[0mhead_kwargs\u001b[0m\u001b[0;34m.\u001b[0m\u001b[0mpop\u001b[0m\u001b[0;34m(\u001b[0m\u001b[0;34m\"skipfooter\"\u001b[0m\u001b[0;34m,\u001b[0m \u001b[0;32mNone\u001b[0m\u001b[0;34m)\u001b[0m\u001b[0;34m\u001b[0m\u001b[0;34m\u001b[0m\u001b[0m\n\u001b[1;32m    610\u001b[0m     \u001b[0;32mtry\u001b[0m\u001b[0;34m:\u001b[0m\u001b[0;34m\u001b[0m\u001b[0;34m\u001b[0m\u001b[0m\n\u001b[0;32m--> 611\u001b[0;31m         \u001b[0mhead\u001b[0m \u001b[0;34m=\u001b[0m \u001b[0mreader\u001b[0m\u001b[0;34m(\u001b[0m\u001b[0mBytesIO\u001b[0m\u001b[0;34m(\u001b[0m\u001b[0mb_sample\u001b[0m\u001b[0;34m)\u001b[0m\u001b[0;34m,\u001b[0m \u001b[0mnrows\u001b[0m\u001b[0;34m=\u001b[0m\u001b[0msample_rows\u001b[0m\u001b[0;34m,\u001b[0m \u001b[0;34m**\u001b[0m\u001b[0mhead_kwargs\u001b[0m\u001b[0;34m)\u001b[0m\u001b[0;34m\u001b[0m\u001b[0;34m\u001b[0m\u001b[0m\n\u001b[0m\u001b[1;32m    612\u001b[0m     \u001b[0;32mexcept\u001b[0m \u001b[0mpd\u001b[0m\u001b[0;34m.\u001b[0m\u001b[0merrors\u001b[0m\u001b[0;34m.\u001b[0m\u001b[0mParserError\u001b[0m \u001b[0;32mas\u001b[0m \u001b[0me\u001b[0m\u001b[0;34m:\u001b[0m\u001b[0;34m\u001b[0m\u001b[0;34m\u001b[0m\u001b[0m\n\u001b[1;32m    613\u001b[0m         \u001b[0;32mif\u001b[0m \u001b[0;34m\"EOF\"\u001b[0m \u001b[0;32min\u001b[0m \u001b[0mstr\u001b[0m\u001b[0;34m(\u001b[0m\u001b[0me\u001b[0m\u001b[0;34m)\u001b[0m\u001b[0;34m:\u001b[0m\u001b[0;34m\u001b[0m\u001b[0;34m\u001b[0m\u001b[0m\n",
            "\u001b[0;32m/usr/local/lib/python3.8/dist-packages/pandas/util/_decorators.py\u001b[0m in \u001b[0;36mwrapper\u001b[0;34m(*args, **kwargs)\u001b[0m\n\u001b[1;32m    309\u001b[0m                     \u001b[0mstacklevel\u001b[0m\u001b[0;34m=\u001b[0m\u001b[0mstacklevel\u001b[0m\u001b[0;34m,\u001b[0m\u001b[0;34m\u001b[0m\u001b[0;34m\u001b[0m\u001b[0m\n\u001b[1;32m    310\u001b[0m                 )\n\u001b[0;32m--> 311\u001b[0;31m             \u001b[0;32mreturn\u001b[0m \u001b[0mfunc\u001b[0m\u001b[0;34m(\u001b[0m\u001b[0;34m*\u001b[0m\u001b[0margs\u001b[0m\u001b[0;34m,\u001b[0m \u001b[0;34m**\u001b[0m\u001b[0mkwargs\u001b[0m\u001b[0;34m)\u001b[0m\u001b[0;34m\u001b[0m\u001b[0;34m\u001b[0m\u001b[0m\n\u001b[0m\u001b[1;32m    312\u001b[0m \u001b[0;34m\u001b[0m\u001b[0m\n\u001b[1;32m    313\u001b[0m         \u001b[0;32mreturn\u001b[0m \u001b[0mwrapper\u001b[0m\u001b[0;34m\u001b[0m\u001b[0;34m\u001b[0m\u001b[0m\n",
            "\u001b[0;32m/usr/local/lib/python3.8/dist-packages/pandas/io/parsers/readers.py\u001b[0m in \u001b[0;36mread_csv\u001b[0;34m(filepath_or_buffer, sep, delimiter, header, names, index_col, usecols, squeeze, prefix, mangle_dupe_cols, dtype, engine, converters, true_values, false_values, skipinitialspace, skiprows, skipfooter, nrows, na_values, keep_default_na, na_filter, verbose, skip_blank_lines, parse_dates, infer_datetime_format, keep_date_col, date_parser, dayfirst, cache_dates, iterator, chunksize, compression, thousands, decimal, lineterminator, quotechar, quoting, doublequote, escapechar, comment, encoding, encoding_errors, dialect, error_bad_lines, warn_bad_lines, on_bad_lines, delim_whitespace, low_memory, memory_map, float_precision, storage_options)\u001b[0m\n\u001b[1;32m    584\u001b[0m     \u001b[0mkwds\u001b[0m\u001b[0;34m.\u001b[0m\u001b[0mupdate\u001b[0m\u001b[0;34m(\u001b[0m\u001b[0mkwds_defaults\u001b[0m\u001b[0;34m)\u001b[0m\u001b[0;34m\u001b[0m\u001b[0;34m\u001b[0m\u001b[0m\n\u001b[1;32m    585\u001b[0m \u001b[0;34m\u001b[0m\u001b[0m\n\u001b[0;32m--> 586\u001b[0;31m     \u001b[0;32mreturn\u001b[0m \u001b[0m_read\u001b[0m\u001b[0;34m(\u001b[0m\u001b[0mfilepath_or_buffer\u001b[0m\u001b[0;34m,\u001b[0m \u001b[0mkwds\u001b[0m\u001b[0;34m)\u001b[0m\u001b[0;34m\u001b[0m\u001b[0;34m\u001b[0m\u001b[0m\n\u001b[0m\u001b[1;32m    587\u001b[0m \u001b[0;34m\u001b[0m\u001b[0m\n\u001b[1;32m    588\u001b[0m \u001b[0;34m\u001b[0m\u001b[0m\n",
            "\u001b[0;32m/usr/local/lib/python3.8/dist-packages/pandas/io/parsers/readers.py\u001b[0m in \u001b[0;36m_read\u001b[0;34m(filepath_or_buffer, kwds)\u001b[0m\n\u001b[1;32m    480\u001b[0m \u001b[0;34m\u001b[0m\u001b[0m\n\u001b[1;32m    481\u001b[0m     \u001b[0;31m# Create the parser.\u001b[0m\u001b[0;34m\u001b[0m\u001b[0;34m\u001b[0m\u001b[0;34m\u001b[0m\u001b[0m\n\u001b[0;32m--> 482\u001b[0;31m     \u001b[0mparser\u001b[0m \u001b[0;34m=\u001b[0m \u001b[0mTextFileReader\u001b[0m\u001b[0;34m(\u001b[0m\u001b[0mfilepath_or_buffer\u001b[0m\u001b[0;34m,\u001b[0m \u001b[0;34m**\u001b[0m\u001b[0mkwds\u001b[0m\u001b[0;34m)\u001b[0m\u001b[0;34m\u001b[0m\u001b[0;34m\u001b[0m\u001b[0m\n\u001b[0m\u001b[1;32m    483\u001b[0m \u001b[0;34m\u001b[0m\u001b[0m\n\u001b[1;32m    484\u001b[0m     \u001b[0;32mif\u001b[0m \u001b[0mchunksize\u001b[0m \u001b[0;32mor\u001b[0m \u001b[0miterator\u001b[0m\u001b[0;34m:\u001b[0m\u001b[0;34m\u001b[0m\u001b[0;34m\u001b[0m\u001b[0m\n",
            "\u001b[0;32m/usr/local/lib/python3.8/dist-packages/pandas/io/parsers/readers.py\u001b[0m in \u001b[0;36m__init__\u001b[0;34m(self, f, engine, **kwds)\u001b[0m\n\u001b[1;32m    809\u001b[0m             \u001b[0mself\u001b[0m\u001b[0;34m.\u001b[0m\u001b[0moptions\u001b[0m\u001b[0;34m[\u001b[0m\u001b[0;34m\"has_index_names\"\u001b[0m\u001b[0;34m]\u001b[0m \u001b[0;34m=\u001b[0m \u001b[0mkwds\u001b[0m\u001b[0;34m[\u001b[0m\u001b[0;34m\"has_index_names\"\u001b[0m\u001b[0;34m]\u001b[0m\u001b[0;34m\u001b[0m\u001b[0;34m\u001b[0m\u001b[0m\n\u001b[1;32m    810\u001b[0m \u001b[0;34m\u001b[0m\u001b[0m\n\u001b[0;32m--> 811\u001b[0;31m         \u001b[0mself\u001b[0m\u001b[0;34m.\u001b[0m\u001b[0m_engine\u001b[0m \u001b[0;34m=\u001b[0m \u001b[0mself\u001b[0m\u001b[0;34m.\u001b[0m\u001b[0m_make_engine\u001b[0m\u001b[0;34m(\u001b[0m\u001b[0mself\u001b[0m\u001b[0;34m.\u001b[0m\u001b[0mengine\u001b[0m\u001b[0;34m)\u001b[0m\u001b[0;34m\u001b[0m\u001b[0;34m\u001b[0m\u001b[0m\n\u001b[0m\u001b[1;32m    812\u001b[0m \u001b[0;34m\u001b[0m\u001b[0m\n\u001b[1;32m    813\u001b[0m     \u001b[0;32mdef\u001b[0m \u001b[0mclose\u001b[0m\u001b[0;34m(\u001b[0m\u001b[0mself\u001b[0m\u001b[0;34m)\u001b[0m\u001b[0;34m:\u001b[0m\u001b[0;34m\u001b[0m\u001b[0;34m\u001b[0m\u001b[0m\n",
            "\u001b[0;32m/usr/local/lib/python3.8/dist-packages/pandas/io/parsers/readers.py\u001b[0m in \u001b[0;36m_make_engine\u001b[0;34m(self, engine)\u001b[0m\n\u001b[1;32m   1038\u001b[0m             )\n\u001b[1;32m   1039\u001b[0m         \u001b[0;31m# error: Too many arguments for \"ParserBase\"\u001b[0m\u001b[0;34m\u001b[0m\u001b[0;34m\u001b[0m\u001b[0;34m\u001b[0m\u001b[0m\n\u001b[0;32m-> 1040\u001b[0;31m         \u001b[0;32mreturn\u001b[0m \u001b[0mmapping\u001b[0m\u001b[0;34m[\u001b[0m\u001b[0mengine\u001b[0m\u001b[0;34m]\u001b[0m\u001b[0;34m(\u001b[0m\u001b[0mself\u001b[0m\u001b[0;34m.\u001b[0m\u001b[0mf\u001b[0m\u001b[0;34m,\u001b[0m \u001b[0;34m**\u001b[0m\u001b[0mself\u001b[0m\u001b[0;34m.\u001b[0m\u001b[0moptions\u001b[0m\u001b[0;34m)\u001b[0m  \u001b[0;31m# type: ignore[call-arg]\u001b[0m\u001b[0;34m\u001b[0m\u001b[0;34m\u001b[0m\u001b[0m\n\u001b[0m\u001b[1;32m   1041\u001b[0m \u001b[0;34m\u001b[0m\u001b[0m\n\u001b[1;32m   1042\u001b[0m     \u001b[0;32mdef\u001b[0m \u001b[0m_failover_to_python\u001b[0m\u001b[0;34m(\u001b[0m\u001b[0mself\u001b[0m\u001b[0;34m)\u001b[0m\u001b[0;34m:\u001b[0m\u001b[0;34m\u001b[0m\u001b[0;34m\u001b[0m\u001b[0m\n",
            "\u001b[0;32m/usr/local/lib/python3.8/dist-packages/pandas/io/parsers/c_parser_wrapper.py\u001b[0m in \u001b[0;36m__init__\u001b[0;34m(self, src, **kwds)\u001b[0m\n\u001b[1;32m    133\u001b[0m                 \u001b[0mself\u001b[0m\u001b[0;34m.\u001b[0m\u001b[0morig_names\u001b[0m\u001b[0;34m\u001b[0m\u001b[0;34m\u001b[0m\u001b[0m\n\u001b[1;32m    134\u001b[0m             ):\n\u001b[0;32m--> 135\u001b[0;31m                 \u001b[0mself\u001b[0m\u001b[0;34m.\u001b[0m\u001b[0m_validate_usecols_names\u001b[0m\u001b[0;34m(\u001b[0m\u001b[0musecols\u001b[0m\u001b[0;34m,\u001b[0m \u001b[0mself\u001b[0m\u001b[0;34m.\u001b[0m\u001b[0morig_names\u001b[0m\u001b[0;34m)\u001b[0m\u001b[0;34m\u001b[0m\u001b[0;34m\u001b[0m\u001b[0m\n\u001b[0m\u001b[1;32m    136\u001b[0m \u001b[0;34m\u001b[0m\u001b[0m\n\u001b[1;32m    137\u001b[0m             \u001b[0;31m# error: Cannot determine type of 'names'\u001b[0m\u001b[0;34m\u001b[0m\u001b[0;34m\u001b[0m\u001b[0;34m\u001b[0m\u001b[0m\n",
            "\u001b[0;32m/usr/local/lib/python3.8/dist-packages/pandas/io/parsers/base_parser.py\u001b[0m in \u001b[0;36m_validate_usecols_names\u001b[0;34m(self, usecols, names)\u001b[0m\n\u001b[1;32m    864\u001b[0m         \u001b[0mmissing\u001b[0m \u001b[0;34m=\u001b[0m \u001b[0;34m[\u001b[0m\u001b[0mc\u001b[0m \u001b[0;32mfor\u001b[0m \u001b[0mc\u001b[0m \u001b[0;32min\u001b[0m \u001b[0musecols\u001b[0m \u001b[0;32mif\u001b[0m \u001b[0mc\u001b[0m \u001b[0;32mnot\u001b[0m \u001b[0;32min\u001b[0m \u001b[0mnames\u001b[0m\u001b[0;34m]\u001b[0m\u001b[0;34m\u001b[0m\u001b[0;34m\u001b[0m\u001b[0m\n\u001b[1;32m    865\u001b[0m         \u001b[0;32mif\u001b[0m \u001b[0mlen\u001b[0m\u001b[0;34m(\u001b[0m\u001b[0mmissing\u001b[0m\u001b[0;34m)\u001b[0m \u001b[0;34m>\u001b[0m \u001b[0;36m0\u001b[0m\u001b[0;34m:\u001b[0m\u001b[0;34m\u001b[0m\u001b[0;34m\u001b[0m\u001b[0m\n\u001b[0;32m--> 866\u001b[0;31m             raise ValueError(\n\u001b[0m\u001b[1;32m    867\u001b[0m                 \u001b[0;34mf\"Usecols do not match columns, columns expected but not found: \"\u001b[0m\u001b[0;34m\u001b[0m\u001b[0;34m\u001b[0m\u001b[0m\n\u001b[1;32m    868\u001b[0m                 \u001b[0;34mf\"{missing}\"\u001b[0m\u001b[0;34m\u001b[0m\u001b[0;34m\u001b[0m\u001b[0m\n",
            "\u001b[0;31mValueError\u001b[0m: Usecols do not match columns, columns expected but not found: ['USER_ID']"
          ]
        }
      ]
    },
    {
      "cell_type": "code",
      "source": [],
      "metadata": {
        "id": "Bxxyd8q_5-TB"
      },
      "execution_count": null,
      "outputs": []
    }
  ]
}